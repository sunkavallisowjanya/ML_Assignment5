{
 "cells": [
  {
   "cell_type": "code",
   "execution_count": null,
   "id": "85ac5f7c",
   "metadata": {},
   "outputs": [],
   "source": [
    "## Sowjanya Sunkavalli\n",
    "## 700731896"
   ]
  },
  {
   "cell_type": "markdown",
   "id": "ed811397",
   "metadata": {},
   "source": [
    "### Machine Learning: Assignment 5\n",
    "### Programming elements:\n",
    "### Principal Component Analysis"
   ]
  },
  {
   "cell_type": "code",
   "execution_count": 52,
   "id": "eef7831a",
   "metadata": {},
   "outputs": [],
   "source": [
    "from sklearn.decomposition import PCA # importing  PCA module from sklearn.decomposition library\n",
    "from sklearn.preprocessing import StandardScaler # importing StandardScaler from sklearn.preprocessing library\n",
    "from sklearn.model_selection import train_test_split # Importing train_test_split module from sklearn.model_selection library\n",
    "import pandas as pd # Importing Pandas as pd\n",
    "from sklearn.linear_model import LogisticRegression # Importing LogisticRegression module from sklearn.linear_model library \n",
    "from sklearn.metrics import accuracy_score # Importing accuracy_score from sklearn.metrics library\n",
    "import matplotlib.pyplot as plt # Importing python plot as plt from matplotlib.pyplot library\n",
    "import warnings # Importing Warnings library and filtering Warnings to Ignore\n",
    "warnings.filterwarnings('ignore')"
   ]
  },
  {
   "cell_type": "markdown",
   "id": "3fa64245",
   "metadata": {},
   "source": [
    "### 1. Principal Component Analysis\n",
    "### a. Apply PCA on CC dataset"
   ]
  },
  {
   "cell_type": "code",
   "execution_count": 53,
   "id": "a64b81d3",
   "metadata": {},
   "outputs": [],
   "source": [
    "cc = pd.read_csv('CC.csv') # Reading CC csv file using read_csv() function\n",
    "cc.fillna(cc.mean(),axis=0,inplace=True) # Filling the null values with Mean of corresponding columns"
   ]
  },
  {
   "cell_type": "code",
   "execution_count": 54,
   "id": "b7968b41",
   "metadata": {},
   "outputs": [],
   "source": [
    "X = cc.drop(columns=['TENURE','CUST_ID']) # Dropping TENURE and CUST_ID and placing remaining columns as Features X \n",
    "y = cc['TENURE'] # Assigning TENURE column as Label Y"
   ]
  },
  {
   "cell_type": "code",
   "execution_count": 55,
   "id": "df89e01e",
   "metadata": {},
   "outputs": [
    {
     "data": {
      "text/html": [
       "<div>\n",
       "<style scoped>\n",
       "    .dataframe tbody tr th:only-of-type {\n",
       "        vertical-align: middle;\n",
       "    }\n",
       "\n",
       "    .dataframe tbody tr th {\n",
       "        vertical-align: top;\n",
       "    }\n",
       "\n",
       "    .dataframe thead th {\n",
       "        text-align: right;\n",
       "    }\n",
       "</style>\n",
       "<table border=\"1\" class=\"dataframe\">\n",
       "  <thead>\n",
       "    <tr style=\"text-align: right;\">\n",
       "      <th></th>\n",
       "      <th>principal component 1</th>\n",
       "      <th>principal component 2</th>\n",
       "      <th>TENURE</th>\n",
       "    </tr>\n",
       "  </thead>\n",
       "  <tbody>\n",
       "    <tr>\n",
       "      <th>0</th>\n",
       "      <td>-4326.383979</td>\n",
       "      <td>921.566882</td>\n",
       "      <td>12</td>\n",
       "    </tr>\n",
       "    <tr>\n",
       "      <th>1</th>\n",
       "      <td>4118.916665</td>\n",
       "      <td>-2432.846346</td>\n",
       "      <td>12</td>\n",
       "    </tr>\n",
       "    <tr>\n",
       "      <th>2</th>\n",
       "      <td>1497.907641</td>\n",
       "      <td>-1997.578694</td>\n",
       "      <td>12</td>\n",
       "    </tr>\n",
       "    <tr>\n",
       "      <th>3</th>\n",
       "      <td>1394.548536</td>\n",
       "      <td>-1488.743453</td>\n",
       "      <td>12</td>\n",
       "    </tr>\n",
       "    <tr>\n",
       "      <th>4</th>\n",
       "      <td>-3743.351896</td>\n",
       "      <td>757.342657</td>\n",
       "      <td>12</td>\n",
       "    </tr>\n",
       "  </tbody>\n",
       "</table>\n",
       "</div>"
      ],
      "text/plain": [
       "   principal component 1  principal component 2  TENURE\n",
       "0           -4326.383979             921.566882      12\n",
       "1            4118.916665           -2432.846346      12\n",
       "2            1497.907641           -1997.578694      12\n",
       "3            1394.548536           -1488.743453      12\n",
       "4           -3743.351896             757.342657      12"
      ]
     },
     "execution_count": 55,
     "metadata": {},
     "output_type": "execute_result"
    }
   ],
   "source": [
    "pca2 = PCA(n_components=2) # Applying PCA with components 2\n",
    "principalComponents = pca2.fit_transform(X) # Feeding X Feature data to model\n",
    "#Creating a new Dataframe  principalDf with data as principal components and corresponding columns\n",
    "principalDf = pd.DataFrame(data = principalComponents, columns = ['principal component 1', 'principal component 2'])\n",
    "finalcc = pd.concat([principalDf, cc[['TENURE']]], axis = 1) # Concatinating principalDf and TENURE data in CC to final dataframe\n",
    "finalcc.head() # Printing the First 5 rows in the dataframe"
   ]
  },
  {
   "cell_type": "code",
   "execution_count": 56,
   "id": "5b161e3b",
   "metadata": {},
   "outputs": [],
   "source": [
    "X_pca = finalcc.drop('TENURE',axis=1) # Dropping TENURE and placing remaining columns as Features X \n",
    "y_pca = finalcc['TENURE'] # Assigning TENURE column as Label Y\n",
    "nclusters = 3 # Declaring number of clusters as 3"
   ]
  },
  {
   "cell_type": "code",
   "execution_count": 57,
   "id": "31616115",
   "metadata": {},
   "outputs": [
    {
     "name": "stdout",
     "output_type": "stream",
     "text": [
      "0.46535929351003685\n"
     ]
    }
   ],
   "source": [
    "from sklearn.cluster import KMeans # Importing KMeans from sklearn.cluster\n",
    "km = KMeans(n_clusters=nclusters) # Assigning KMeans with n clusters\n",
    "km.fit(X) # Feeding the Feature Data to model\n",
    "y_pred = km.predict(X) # Predicting the label from features X\n",
    "from sklearn.metrics import silhouette_score # importing silhoutte_score from sklearn.metrics\n",
    "score = silhouette_score(X, y_pred) # finding the silhouette_score\n",
    "print(score) # printing silhouette_score"
   ]
  },
  {
   "cell_type": "markdown",
   "id": "d5caea56",
   "metadata": {},
   "source": [
    "### b. Apply k-means algorithm on the PCA result and report your observation if the silhouette score\n",
    "### has improved or not?"
   ]
  },
  {
   "cell_type": "code",
   "execution_count": 58,
   "id": "b780e81a",
   "metadata": {},
   "outputs": [
    {
     "name": "stdout",
     "output_type": "stream",
     "text": [
      "0.47013511761897075\n"
     ]
    }
   ],
   "source": [
    "from sklearn.cluster import KMeans # Importing KMeans from sklearn.cluster\n",
    "km = KMeans(n_clusters=nclusters)  # Assigning KMeans with n clusters\n",
    "km.fit(X_pca)  # Feeding the X_pca Feature Data to model\n",
    "y_pred = km.predict(X_pca) # Predicting the label from features X_pca\n",
    "from sklearn.metrics import silhouette_score # importing silhoutte_score from sklearn.metrics\n",
    "score = silhouette_score(X, y_pred) # finding the silhouette_score\n",
    "print(score) # printing silhouette_score"
   ]
  },
  {
   "cell_type": "code",
   "execution_count": 39,
   "id": "235cea23",
   "metadata": {},
   "outputs": [],
   "source": [
    "#  Silhouette scoreIt got Improved after applying PCA"
   ]
  },
  {
   "cell_type": "markdown",
   "id": "3e3fb096",
   "metadata": {},
   "source": [
    "### c. Perform Scaling+PCA+K-Means and report performance."
   ]
  },
  {
   "cell_type": "code",
   "execution_count": 59,
   "id": "9a2e8eb0",
   "metadata": {},
   "outputs": [
    {
     "name": "stdout",
     "output_type": "stream",
     "text": [
      "0.4527288364707121\n"
     ]
    }
   ],
   "source": [
    "scaler = StandardScaler() # creating a StandardScalar to scale the data\n",
    "scaler.fit(X) # feeding the data to the scalar\n",
    "X_scaled_array = scaler.transform(X) # scaling the data using Standard Scalar function\n",
    "X_scaled = pd.DataFrame(X_scaled_array, columns = X.columns) # creating a new dataframe with scaled data\n",
    "\n",
    "pca2 = PCA(n_components=2) # Creating a model PCA with number of components as 2.\n",
    "principalComponents = pca2.fit_transform(X_scaled) # Feeding the X_scaled data to pca2\n",
    " #creating new df with columns as required\n",
    "principalDf = pd.DataFrame(data = principalComponents, columns = ['principal component 1', 'principal component 2'])\n",
    "finalcc = pd.concat([principalDf, cc[['TENURE']]], axis = 1)\n",
    "X_pca = finalcc.drop('TENURE',axis=1) # dropping TENURE and retaining other columns and considering as X_pca\n",
    "y_pca = finalcc['TENURE'] # TENURE column is considered as y_pca\n",
    "\n",
    "km = KMeans(n_clusters=nclusters) # creating the model\n",
    "km.fit(X_pca) # feeding the model with scaled data\n",
    "y_cluster_kmeans = km.predict(X_pca) # predicting the y values with scaled values of x\n",
    "from sklearn.metrics import silhouette_score # importing silhoutte_score from sklearn.metrics\n",
    "score = silhouette_score(X_pca, y_cluster_kmeans) # finding the silhoutte_score\n",
    "print(score) # printing slihoutte_score"
   ]
  },
  {
   "cell_type": "code",
   "execution_count": null,
   "id": "a3cb0632",
   "metadata": {},
   "outputs": [],
   "source": [
    "# Performance got decreased "
   ]
  },
  {
   "cell_type": "markdown",
   "id": "e4259f60",
   "metadata": {},
   "source": [
    "### 2. Use pd_speech_features.csv"
   ]
  },
  {
   "cell_type": "markdown",
   "id": "4ff70fa2",
   "metadata": {},
   "source": [
    "### a. Perform Scaling"
   ]
  },
  {
   "cell_type": "code",
   "execution_count": 60,
   "id": "f64c2cef",
   "metadata": {},
   "outputs": [],
   "source": [
    "speech = pd.read_csv('pd_speech_features.csv') #reading the data using pandas"
   ]
  },
  {
   "cell_type": "code",
   "execution_count": 61,
   "id": "777a20fa",
   "metadata": {},
   "outputs": [],
   "source": [
    "X = speech.drop(columns = ['class']) # Considering Feature values\n",
    "y = speech['class'] # Considering Label Values"
   ]
  },
  {
   "cell_type": "code",
   "execution_count": 62,
   "id": "53cd79c0",
   "metadata": {},
   "outputs": [],
   "source": [
    "scaler = StandardScaler() # creating a StandardScalar to scale the data\n",
    "scaler.fit(X) # feeding the data to the scalar\n",
    "X_scaled_array = scaler.transform(X) # scaling the data using Standard Scalar function\n",
    "X_scaled = pd.DataFrame(X_scaled_array, columns = X.columns) # creating a new dataframe with scaled data"
   ]
  },
  {
   "cell_type": "markdown",
   "id": "d6e2ffc8",
   "metadata": {},
   "source": [
    "### b. Apply PCA (k=3)"
   ]
  },
  {
   "cell_type": "code",
   "execution_count": 63,
   "id": "f8fe3d44",
   "metadata": {},
   "outputs": [
    {
     "data": {
      "text/html": [
       "<div>\n",
       "<style scoped>\n",
       "    .dataframe tbody tr th:only-of-type {\n",
       "        vertical-align: middle;\n",
       "    }\n",
       "\n",
       "    .dataframe tbody tr th {\n",
       "        vertical-align: top;\n",
       "    }\n",
       "\n",
       "    .dataframe thead th {\n",
       "        text-align: right;\n",
       "    }\n",
       "</style>\n",
       "<table border=\"1\" class=\"dataframe\">\n",
       "  <thead>\n",
       "    <tr style=\"text-align: right;\">\n",
       "      <th></th>\n",
       "      <th>principal component 1</th>\n",
       "      <th>principal component 2</th>\n",
       "      <th>principal component 3</th>\n",
       "      <th>class</th>\n",
       "    </tr>\n",
       "  </thead>\n",
       "  <tbody>\n",
       "    <tr>\n",
       "      <th>0</th>\n",
       "      <td>-10.047372</td>\n",
       "      <td>1.471075</td>\n",
       "      <td>-6.846403</td>\n",
       "      <td>1</td>\n",
       "    </tr>\n",
       "    <tr>\n",
       "      <th>1</th>\n",
       "      <td>-10.637725</td>\n",
       "      <td>1.583751</td>\n",
       "      <td>-6.830980</td>\n",
       "      <td>1</td>\n",
       "    </tr>\n",
       "    <tr>\n",
       "      <th>2</th>\n",
       "      <td>-13.516185</td>\n",
       "      <td>-1.253542</td>\n",
       "      <td>-6.818697</td>\n",
       "      <td>1</td>\n",
       "    </tr>\n",
       "    <tr>\n",
       "      <th>3</th>\n",
       "      <td>-9.155083</td>\n",
       "      <td>8.833602</td>\n",
       "      <td>15.290899</td>\n",
       "      <td>1</td>\n",
       "    </tr>\n",
       "    <tr>\n",
       "      <th>4</th>\n",
       "      <td>-6.764469</td>\n",
       "      <td>4.611470</td>\n",
       "      <td>15.637116</td>\n",
       "      <td>1</td>\n",
       "    </tr>\n",
       "  </tbody>\n",
       "</table>\n",
       "</div>"
      ],
      "text/plain": [
       "   principal component 1  principal component 2  principal component 3  class\n",
       "0             -10.047372               1.471075              -6.846403      1\n",
       "1             -10.637725               1.583751              -6.830980      1\n",
       "2             -13.516185              -1.253542              -6.818697      1\n",
       "3              -9.155083               8.833602              15.290899      1\n",
       "4              -6.764469               4.611470              15.637116      1"
      ]
     },
     "execution_count": 63,
     "metadata": {},
     "output_type": "execute_result"
    }
   ],
   "source": [
    "pca3 = PCA(n_components=3) # Creating a model PCA with number of components as 3.\n",
    "principalComponents = pca3.fit_transform(X_scaled) # Feeding the X_scaled data to pca3\n",
    "\n",
    " #creating new df with columns as required\n",
    "principalDf = pd.DataFrame(data = principalComponents, columns = ['principal component 1', 'principal component 2','principal component 3'])\n",
    "\n",
    "finalspeech = pd.concat([principalDf, speech[['class']]], axis = 1)# Concatinating principalDf and TENURE data in CC to final dataframe\n",
    "finalspeech.head() # Displaying first 5 rows"
   ]
  },
  {
   "cell_type": "markdown",
   "id": "817b3a85",
   "metadata": {},
   "source": [
    "### c. Use SVM to report performance"
   ]
  },
  {
   "cell_type": "code",
   "execution_count": 64,
   "id": "88097c3a",
   "metadata": {},
   "outputs": [],
   "source": [
    "X_pca = finalspeech.drop('class',axis=1) # Considering X_pca features\n",
    "y_pca = finalspeech['class'] # Considering y_pca labels"
   ]
  },
  {
   "cell_type": "code",
   "execution_count": 65,
   "id": "82ed936f",
   "metadata": {},
   "outputs": [],
   "source": [
    "# Splitting the Data into Test and Train Data\n",
    "X_train, X_test, y_train, y_test = train_test_split(X_pca, y_pca, test_size = 0.2, random_state = 0)"
   ]
  },
  {
   "cell_type": "code",
   "execution_count": 66,
   "id": "09093588",
   "metadata": {},
   "outputs": [],
   "source": [
    "from sklearn.svm import SVC # importing SVC \n",
    "from sklearn.metrics import accuracy_score,classification_report,confusion_matrix # Importing different parameters from metrics module\n",
    "classifier = SVC() # creating the model\n",
    "classifier.fit(X_train, y_train) # feeding model with training dataset\n",
    "y_pred = classifier.predict(X_test) # predicting the dependent variable in the test dataset"
   ]
  },
  {
   "cell_type": "code",
   "execution_count": 67,
   "id": "752af96b",
   "metadata": {},
   "outputs": [
    {
     "name": "stdout",
     "output_type": "stream",
     "text": [
      "              precision    recall  f1-score   support\n",
      "\n",
      "           0       0.67      0.42      0.52        38\n",
      "           1       0.83      0.93      0.88       114\n",
      "\n",
      "    accuracy                           0.80       152\n",
      "   macro avg       0.75      0.68      0.70       152\n",
      "weighted avg       0.79      0.80      0.79       152\n",
      "\n",
      "[[ 16  22]\n",
      " [  8 106]]\n",
      "accuracy is 0.8026315789473685\n"
     ]
    }
   ],
   "source": [
    "print(classification_report(y_test, y_pred)) # printing the classification report\n",
    "print(confusion_matrix(y_test, y_pred)) # printing the confusion matrix\n",
    "# Accuracy score\n",
    "from sklearn.metrics import accuracy_score # importing the accuracy_score\n",
    "print('accuracy is',accuracy_score(y_pred,y_test))"
   ]
  },
  {
   "cell_type": "markdown",
   "id": "f6c94f3f",
   "metadata": {},
   "source": [
    "### 3. Apply Linear Discriminant Analysis (LDA) on Iris.csv dataset to reduce dimensionality of data to k=2. "
   ]
  },
  {
   "cell_type": "code",
   "execution_count": 68,
   "id": "870dfd8d",
   "metadata": {},
   "outputs": [
    {
     "data": {
      "text/html": [
       "<div>\n",
       "<style scoped>\n",
       "    .dataframe tbody tr th:only-of-type {\n",
       "        vertical-align: middle;\n",
       "    }\n",
       "\n",
       "    .dataframe tbody tr th {\n",
       "        vertical-align: top;\n",
       "    }\n",
       "\n",
       "    .dataframe thead th {\n",
       "        text-align: right;\n",
       "    }\n",
       "</style>\n",
       "<table border=\"1\" class=\"dataframe\">\n",
       "  <thead>\n",
       "    <tr style=\"text-align: right;\">\n",
       "      <th></th>\n",
       "      <th>principal component 1</th>\n",
       "      <th>principal component 2</th>\n",
       "      <th>Species</th>\n",
       "    </tr>\n",
       "  </thead>\n",
       "  <tbody>\n",
       "    <tr>\n",
       "      <th>0</th>\n",
       "      <td>8.084953</td>\n",
       "      <td>0.328454</td>\n",
       "      <td>Iris-setosa</td>\n",
       "    </tr>\n",
       "    <tr>\n",
       "      <th>1</th>\n",
       "      <td>7.147163</td>\n",
       "      <td>-0.755473</td>\n",
       "      <td>Iris-setosa</td>\n",
       "    </tr>\n",
       "    <tr>\n",
       "      <th>2</th>\n",
       "      <td>7.511378</td>\n",
       "      <td>-0.238078</td>\n",
       "      <td>Iris-setosa</td>\n",
       "    </tr>\n",
       "    <tr>\n",
       "      <th>3</th>\n",
       "      <td>6.837676</td>\n",
       "      <td>-0.642885</td>\n",
       "      <td>Iris-setosa</td>\n",
       "    </tr>\n",
       "    <tr>\n",
       "      <th>4</th>\n",
       "      <td>8.157814</td>\n",
       "      <td>0.540639</td>\n",
       "      <td>Iris-setosa</td>\n",
       "    </tr>\n",
       "  </tbody>\n",
       "</table>\n",
       "</div>"
      ],
      "text/plain": [
       "   principal component 1  principal component 2      Species\n",
       "0               8.084953               0.328454  Iris-setosa\n",
       "1               7.147163              -0.755473  Iris-setosa\n",
       "2               7.511378              -0.238078  Iris-setosa\n",
       "3               6.837676              -0.642885  Iris-setosa\n",
       "4               8.157814               0.540639  Iris-setosa"
      ]
     },
     "execution_count": 68,
     "metadata": {},
     "output_type": "execute_result"
    }
   ],
   "source": [
    "## 3rd one\n",
    "iris = pd.read_csv('Iris.csv') #reading the data using pandas\n",
    "X = iris.drop(columns=['Species','Id']) #considering x values\n",
    "y = iris['Species'] #considering y values\n",
    "from sklearn.discriminant_analysis import LinearDiscriminantAnalysis #importing LDA\n",
    "lda = LinearDiscriminantAnalysis(n_components=2) # considering dimensions as 2\n",
    "principalComponents = lda.fit_transform(X,y) #inputting x,y values\n",
    "principalDf = pd.DataFrame(data = principalComponents, columns = ['principal component 1', 'principal component 2']) #creating new df with columns as required\n",
    "\n",
    "finaliris = pd.concat([principalDf, iris[['Species']]], axis = 1) #concatinating\n",
    "finaliris.head() #displaying first 5 rows"
   ]
  },
  {
   "cell_type": "markdown",
   "id": "a2520cae",
   "metadata": {},
   "source": [
    "### 4. Briefly identify the difference between PCA and LDA\n"
   ]
  },
  {
   "cell_type": "code",
   "execution_count": null,
   "id": "1ef0487d",
   "metadata": {},
   "outputs": [],
   "source": [
    "# Differance between PCA and LDA is written in Word Document. Please kindly refer the Word Document."
   ]
  }
 ],
 "metadata": {
  "kernelspec": {
   "display_name": "Python 3 (ipykernel)",
   "language": "python",
   "name": "python3"
  },
  "language_info": {
   "codemirror_mode": {
    "name": "ipython",
    "version": 3
   },
   "file_extension": ".py",
   "mimetype": "text/x-python",
   "name": "python",
   "nbconvert_exporter": "python",
   "pygments_lexer": "ipython3",
   "version": "3.9.12"
  }
 },
 "nbformat": 4,
 "nbformat_minor": 5
}
